{
 "cells": [
  {
   "cell_type": "markdown",
   "metadata": {},
   "source": [
    "# Cadeias de Markov"
   ]
  },
  {
   "cell_type": "markdown",
   "metadata": {},
   "source": [
    "*Rodrigo Togneri, 2021-03.*"
   ]
  },
  {
   "cell_type": "code",
   "execution_count": 1,
   "metadata": {},
   "outputs": [],
   "source": [
    "import numpy as np"
   ]
  },
  {
   "cell_type": "markdown",
   "metadata": {},
   "source": [
    "## Probabilidades de transição - Versão Dicionário (CONSTRUINDO NA MÃO)"
   ]
  },
  {
   "cell_type": "markdown",
   "metadata": {},
   "source": [
    "Este é um primeiro exemplo, mais fácil de visualizar do ponto de vista de programação, mas ainda com a desvantagem de não utilizar cálculo matricial."
   ]
  },
  {
   "cell_type": "markdown",
   "metadata": {},
   "source": [
    "Primeiro, criemos uma classe para trabalharmos com Cadeias de Markov:"
   ]
  },
  {
   "cell_type": "code",
   "execution_count": 2,
   "metadata": {},
   "outputs": [],
   "source": [
    "class MarkovChain(object):\n",
    "    \n",
    "    def __init__(self, transition_prob):\n",
    "        # Inicializa uma instância de Cadeia de Markov.\n",
    "        # Parâmetros:\n",
    "        # - transition_prob: dict\n",
    "        #      Um objeto do tipo dicionário representando as probabilidades\n",
    "        #      de transição na Cadeia de Markov.\n",
    "        #      Deve estar na seguinte forma:\n",
    "        #         {'estado1':{'estado1': 0.1, 'estado2': 0.4, 'estado3': 0.5},\n",
    "        #          'estado2': {...}}\n",
    "        self.transition_prob = transition_prob\n",
    "        self.states = list(transition_prob.keys())\n",
    "    \n",
    "    def next_state(self, current_state):\n",
    "        # Retorna o estado de uma variável aleatória na próximo período de \n",
    "        # tempo.\n",
    "        # Parâmetros:\n",
    "        # - current_state: str\n",
    "        #      O estado corrente do sistema.\n",
    "        return np.random.choice(\n",
    "            self.states, p=[self.transition_prob[current_state][next_state] \n",
    "                            for next_state in self.states])\n",
    "    \n",
    "    def generate_states(self, current_state, no=10):\n",
    "        # Retorna os próximos estados do sistema.\n",
    "        # Parâmetros:\n",
    "        # - current_state: str\n",
    "        #      O estado corrente do sistema.\n",
    "        # - no: int\n",
    "        #      The number of future states to generate.\n",
    "        future_states = []\n",
    "        for i in range(no):\n",
    "            next_state = self.next_state(current_state)\n",
    "            future_states.append(next_state)\n",
    "            current_state = next_state\n",
    "        return future_states"
   ]
  },
  {
   "cell_type": "markdown",
   "metadata": {},
   "source": [
    "Agora criemos um dicionário com as probabilidades de transições (exemplo dado em aula, de transição entre canais de vendas):"
   ]
  },
  {
   "cell_type": "code",
   "execution_count": 51,
   "metadata": {},
   "outputs": [],
   "source": [
    "transition_prob = {'CanalA': {'CanalA': 0.00, 'CanalB': 0.10, 'Venda': 0.20, 'Saida': 0.70},\n",
    "                   'CanalB': {'CanalA': 0.20, 'CanalB': 0.00, 'Venda': 0.30, 'Saida': 0.50},\n",
    "                   'Venda':  {'CanalA': 0.00, 'CanalB': 0.00, 'Venda': 1.00, 'Saida': 0.00},\n",
    "                   'Saida':  {'CanalA': 0.00, 'CanalB': 0.00, 'Venda': 0.00, 'Saida': 1.00}}"
   ]
  },
  {
   "cell_type": "markdown",
   "metadata": {},
   "source": [
    "Pronto! Agora podemos criar nosso primeiro objeto de Cadeias de Markov:"
   ]
  },
  {
   "cell_type": "code",
   "execution_count": 4,
   "metadata": {},
   "outputs": [],
   "source": [
    "fluxoDeCanais = MarkovChain(transition_prob=transition_prob)"
   ]
  },
  {
   "cell_type": "markdown",
   "metadata": {},
   "source": [
    "Com o objeto criado, podemos invocar uma geração aleatória de próximo estado dado um estado corrente:"
   ]
  },
  {
   "cell_type": "code",
   "execution_count": 5,
   "metadata": {},
   "outputs": [
    {
     "data": {
      "text/plain": [
       "'Saida'"
      ]
     },
     "execution_count": 5,
     "metadata": {},
     "output_type": "execute_result"
    }
   ],
   "source": [
    "fluxoDeCanais.next_state(current_state='CanalA')"
   ]
  },
  {
   "cell_type": "code",
   "execution_count": 6,
   "metadata": {},
   "outputs": [
    {
     "data": {
      "text/plain": [
       "'CanalA'"
      ]
     },
     "execution_count": 6,
     "metadata": {},
     "output_type": "execute_result"
    }
   ],
   "source": [
    "fluxoDeCanais.next_state(current_state='CanalB')"
   ]
  },
  {
   "cell_type": "markdown",
   "metadata": {},
   "source": [
    "Note que quando o estado corrente é o de Venda (ou o de Saída , que são estados terminais), o próximo estado é sempre o próprio estado corrente."
   ]
  },
  {
   "cell_type": "code",
   "execution_count": 7,
   "metadata": {},
   "outputs": [
    {
     "data": {
      "text/plain": [
       "'Venda'"
      ]
     },
     "execution_count": 7,
     "metadata": {},
     "output_type": "execute_result"
    }
   ],
   "source": [
    "fluxoDeCanais.next_state(current_state='Venda')"
   ]
  },
  {
   "cell_type": "markdown",
   "metadata": {},
   "source": [
    "Podemos também gerar simulações sequenciais de uma cadeia de markov, partindo de um estado corrente:"
   ]
  },
  {
   "cell_type": "code",
   "execution_count": 20,
   "metadata": {},
   "outputs": [
    {
     "data": {
      "text/plain": [
       "['Venda',\n",
       " 'Venda',\n",
       " 'Venda',\n",
       " 'Venda',\n",
       " 'Venda',\n",
       " 'Venda',\n",
       " 'Venda',\n",
       " 'Venda',\n",
       " 'Venda',\n",
       " 'Venda']"
      ]
     },
     "execution_count": 20,
     "metadata": {},
     "output_type": "execute_result"
    }
   ],
   "source": [
    "fluxoDeCanais.generate_states(current_state='CanalA', no=10)"
   ]
  },
  {
   "cell_type": "markdown",
   "metadata": {},
   "source": [
    "## Probabilidades de transição - Versão Array (melhor) (CONSTRUINDO DO ZERO)"
   ]
  },
  {
   "cell_type": "markdown",
   "metadata": {},
   "source": [
    "Agora vamos novamente construir um exemplo do zero, só que agora fazendo uso de matriz de transição (array) ao invés de um dicionário."
   ]
  },
  {
   "cell_type": "markdown",
   "metadata": {},
   "source": [
    "Primeiro, criemos uma classe que lide com Cadeias de Markov:"
   ]
  },
  {
   "cell_type": "code",
   "execution_count": 39,
   "metadata": {},
   "outputs": [],
   "source": [
    "class MarkovChain(object):\n",
    "    def __init__(self, transition_matrix, states):\n",
    "        # Inicializa uma instância de Cadeia de Markov.\n",
    "        # Parâmetros:\n",
    "        # - transition_prob: 2-D array\n",
    "        #     Um array 2-D repressentando a matriz de transição.\n",
    "        # - states: 1-D array\n",
    "        #     Um array representando os estados possíveis da Cadeia de Markov\n",
    "        #     (precisa ser na mesma ordem de estados na matriz de transição).\n",
    "        self.transition_matrix = np.atleast_2d(transition_matrix)\n",
    "        self.states = states\n",
    "        self.index_dict = {self.states[index]: index for index in \n",
    "                           range(len(self.states))}\n",
    "        self.state_dict = {index: self.states[index] for index in\n",
    "                           range(len(self.states))}\n",
    " \n",
    "    def next_state(self, current_state):\n",
    "        # Retorna o estado de uma variável aleatória na próximo período de \n",
    "        # tempo.\n",
    "        # Parâmetros:\n",
    "        # - current_state: str\n",
    "        #      O estado corrente do sistema.\n",
    "        return np.random.choice(\n",
    "         self.states, \n",
    "         p=self.transition_matrix[self.index_dict[current_state], :]\n",
    "        )\n",
    " \n",
    "    def generate_states(self, current_state, no=10):\n",
    "        # Retorna os próximos estados do sistema.\n",
    "        # Parâmetros:\n",
    "        # - current_state: str\n",
    "        #      O estado corrente do sistema.\n",
    "        # - no: int\n",
    "        #      The number of future states to generate.\n",
    "        future_states = []\n",
    "        for i in range(no):\n",
    "            next_state = self.next_state(current_state)\n",
    "            future_states.append(next_state)\n",
    "            current_state = next_state\n",
    "        return future_states\n",
    "    \n",
    "    def systemEvolution(self, initial_globalState, steps):\n",
    "        tmpCurrMatrix = self.transition_matrix\n",
    "        globalStates = []\n",
    "        globalStates.append(initial_globalState)\n",
    "        tmpNewGlobalState = initial_globalState\n",
    "        for i in range(steps-1):\n",
    "            tmpNewGlobalState = np.matmul(tmpNewGlobalState, tmpCurrMatrix).tolist()\n",
    "            globalStates.append(tmpNewGlobalState)\n",
    "            tmpCurrMatrix = np.matmul(tmpCurrMatrix, fluxoDeCanais.transition_matrix)\n",
    "        return globalStates"
   ]
  },
  {
   "cell_type": "markdown",
   "metadata": {},
   "source": [
    "Criemos uma matriz de transição (usado o mesmo exemplo dado em aula, de fluxo de transiÇão de canais de vendas):"
   ]
  },
  {
   "cell_type": "code",
   "execution_count": 53,
   "metadata": {},
   "outputs": [],
   "source": [
    "transition_matrix = [[0.00, 0.10, 0.20, 0.70],\n",
    "                     [0.20, 0.00, 0.30, 0.50],\n",
    "                     [0.00, 0.00, 1.00, 0.00],\n",
    "                     [0.00, 0.00, 0.00, 1.00]]"
   ]
  },
  {
   "cell_type": "markdown",
   "metadata": {},
   "source": [
    "Pronto! Agora podemos criar um objeto da classe criada:"
   ]
  },
  {
   "cell_type": "code",
   "execution_count": 41,
   "metadata": {},
   "outputs": [],
   "source": [
    "fluxoDeCanais = MarkovChain(transition_matrix=transition_matrix,\n",
    "                            states=['CanalA', 'CanalB', 'Venda', 'Saida'])"
   ]
  },
  {
   "cell_type": "markdown",
   "metadata": {},
   "source": [
    "Veja o que index_dict e state_dict armazenam:"
   ]
  },
  {
   "cell_type": "code",
   "execution_count": 42,
   "metadata": {},
   "outputs": [
    {
     "data": {
      "text/plain": [
       "{'CanalA': 0, 'CanalB': 1, 'Venda': 2, 'Saida': 3}"
      ]
     },
     "execution_count": 42,
     "metadata": {},
     "output_type": "execute_result"
    }
   ],
   "source": [
    "fluxoDeCanais.index_dict"
   ]
  },
  {
   "cell_type": "code",
   "execution_count": 43,
   "metadata": {},
   "outputs": [
    {
     "data": {
      "text/plain": [
       "{0: 'CanalA', 1: 'CanalB', 2: 'Venda', 3: 'Saida'}"
      ]
     },
     "execution_count": 43,
     "metadata": {},
     "output_type": "execute_result"
    }
   ],
   "source": [
    "fluxoDeCanais.state_dict"
   ]
  },
  {
   "cell_type": "markdown",
   "metadata": {},
   "source": [
    "Da mesma forma, podemos simular aleatoriamente o próximo estado à partir do estado corrente:"
   ]
  },
  {
   "cell_type": "code",
   "execution_count": 44,
   "metadata": {},
   "outputs": [
    {
     "data": {
      "text/plain": [
       "'Saida'"
      ]
     },
     "execution_count": 44,
     "metadata": {},
     "output_type": "execute_result"
    }
   ],
   "source": [
    "fluxoDeCanais.next_state(current_state='CanalA')"
   ]
  },
  {
   "cell_type": "code",
   "execution_count": 45,
   "metadata": {},
   "outputs": [
    {
     "data": {
      "text/plain": [
       "'Venda'"
      ]
     },
     "execution_count": 45,
     "metadata": {},
     "output_type": "execute_result"
    }
   ],
   "source": [
    "fluxoDeCanais.next_state(current_state='CanalB')"
   ]
  },
  {
   "cell_type": "code",
   "execution_count": 46,
   "metadata": {},
   "outputs": [
    {
     "data": {
      "text/plain": [
       "'Venda'"
      ]
     },
     "execution_count": 46,
     "metadata": {},
     "output_type": "execute_result"
    }
   ],
   "source": [
    "fluxoDeCanais.next_state(current_state='Venda')"
   ]
  },
  {
   "cell_type": "markdown",
   "metadata": {},
   "source": [
    "E gerar uma simulação de sequência de estados a partir de um estado corrente:"
   ]
  },
  {
   "cell_type": "code",
   "execution_count": 47,
   "metadata": {},
   "outputs": [
    {
     "data": {
      "text/plain": [
       "['Saida',\n",
       " 'Saida',\n",
       " 'Saida',\n",
       " 'Saida',\n",
       " 'Saida',\n",
       " 'Saida',\n",
       " 'Saida',\n",
       " 'Saida',\n",
       " 'Saida',\n",
       " 'Saida']"
      ]
     },
     "execution_count": 47,
     "metadata": {},
     "output_type": "execute_result"
    }
   ],
   "source": [
    "fluxoDeCanais.generate_states(current_state='CanalA', no=10)"
   ]
  },
  {
   "cell_type": "markdown",
   "metadata": {},
   "source": [
    "Vamos agora criar uma estimativa de evolução do sistema como um todo (aqui começamos a enxergar a imporância de se utilizar cálculo matricial, justamente porque a evolução ocorre pela multiplicação iterativa da matriz de transição):"
   ]
  },
  {
   "cell_type": "code",
   "execution_count": 55,
   "metadata": {},
   "outputs": [],
   "source": [
    "steps = 10\n",
    "initial_globalState = [1, 0, 0, 0]"
   ]
  },
  {
   "cell_type": "code",
   "execution_count": 56,
   "metadata": {},
   "outputs": [],
   "source": [
    "tmpCurrMatrix = fluxoDeCanais.transition_matrix\n",
    "globalStates = []\n",
    "globalStates.append(initial_globalState)\n",
    "tmpNewGlobalState = initial_globalState\n",
    "for i in range(steps-1):\n",
    "    tmpNewGlobalState = np.matmul(tmpNewGlobalState, tmpCurrMatrix).tolist()\n",
    "    globalStates.append(tmpNewGlobalState)\n",
    "    tmpCurrMatrix = np.matmul(tmpCurrMatrix, fluxoDeCanais.transition_matrix)"
   ]
  },
  {
   "cell_type": "code",
   "execution_count": 57,
   "metadata": {},
   "outputs": [
    {
     "data": {
      "text/plain": [
       "[[1, 0, 0, 0],\n",
       " [0.0, 0.1, 0.2, 0.7],\n",
       " [0.0, 0.0020000000000000005, 0.234, 0.764],\n",
       " [8.000000000000003e-06, 0.0, 0.234692, 0.7653],\n",
       " [3.200000000000002e-09, 0.0, 0.2346938768, 0.76530612],\n",
       " [0.0, 1.2800000000000014e-13, 0.234693877550976, 0.765306122448896],\n",
       " [0.0, 1.0240000000000014e-18, 0.23469387755102042, 0.7653061224489796],\n",
       " [1.638400000000003e-24, 0.0, 0.23469387755102042, 0.7653061224489796],\n",
       " [2.6214400000000064e-31, 0.0, 0.23469387755102042, 0.7653061224489796],\n",
       " [0.0, 4.1943040000000123e-39, 0.23469387755102042, 0.7653061224489796]]"
      ]
     },
     "execution_count": 57,
     "metadata": {},
     "output_type": "execute_result"
    }
   ],
   "source": [
    "globalStates"
   ]
  },
  {
   "cell_type": "markdown",
   "metadata": {},
   "source": [
    "Mas como já temos o código acima implementado como método na classe MarkovChain, podemos apenas invocar o método para obtermos o mesmo resultado:"
   ]
  },
  {
   "cell_type": "code",
   "execution_count": 58,
   "metadata": {},
   "outputs": [
    {
     "data": {
      "text/plain": [
       "[[1, 0, 0, 0],\n",
       " [0.0, 0.1, 0.2, 0.7],\n",
       " [0.0, 0.0020000000000000005, 0.234, 0.764],\n",
       " [8.000000000000003e-06, 0.0, 0.234692, 0.7653],\n",
       " [3.200000000000002e-09, 0.0, 0.2346938768, 0.76530612],\n",
       " [0.0, 1.2800000000000014e-13, 0.234693877550976, 0.765306122448896],\n",
       " [0.0, 1.0240000000000014e-18, 0.23469387755102042, 0.7653061224489796],\n",
       " [1.638400000000003e-24, 0.0, 0.23469387755102042, 0.7653061224489796],\n",
       " [2.6214400000000064e-31, 0.0, 0.23469387755102042, 0.7653061224489796],\n",
       " [0.0, 4.1943040000000123e-39, 0.23469387755102042, 0.7653061224489796]]"
      ]
     },
     "execution_count": 58,
     "metadata": {},
     "output_type": "execute_result"
    }
   ],
   "source": [
    "fluxoDeCanais.systemEvolution(initial_globalState, steps)"
   ]
  },
  {
   "cell_type": "markdown",
   "metadata": {},
   "source": [
    "Veja o que acontece quando calculamos os autovalores e autovetores da transposta da matriz de transição (os estados terminais sempre apresentam autovalor 1 e autovetores com um valor 1 e o restante de zeros):"
   ]
  },
  {
   "cell_type": "code",
   "execution_count": 95,
   "metadata": {},
   "outputs": [
    {
     "data": {
      "text/plain": [
       "(array([ 1.        ,  1.        ,  0.14142136, -0.14142136]),\n",
       " array([[ 0.        ,  0.        ,  0.55588453, -0.79249389],\n",
       "        [ 0.        ,  0.        ,  0.39306972,  0.5603778 ],\n",
       "        [ 1.        ,  0.        , -0.26683383, -0.00842333],\n",
       "        [ 0.        ,  1.        , -0.68212043,  0.24053941]]))"
      ]
     },
     "execution_count": 95,
     "metadata": {},
     "output_type": "execute_result"
    }
   ],
   "source": [
    "np.linalg.eig(np.transpose(fluxoDeCanais.transition_matrix))"
   ]
  },
  {
   "cell_type": "markdown",
   "metadata": {},
   "source": [
    "## Pagerank"
   ]
  },
  {
   "cell_type": "markdown",
   "metadata": {},
   "source": [
    "Realizando o exemplo da lousa:"
   ]
  },
  {
   "cell_type": "code",
   "execution_count": 59,
   "metadata": {},
   "outputs": [],
   "source": [
    "transition_matrix = [[0, 1/2, 1/2, 0],\n",
    "                     [0, 0, 1/2, 1/2],\n",
    "                     [0, 0, 0, 1],\n",
    "                     [1/3, 1/3, 1/3, 1]]"
   ]
  },
  {
   "cell_type": "code",
   "execution_count": 60,
   "metadata": {},
   "outputs": [],
   "source": [
    "transition_matrix_T = np.transpose(transition_matrix)"
   ]
  },
  {
   "cell_type": "code",
   "execution_count": 62,
   "metadata": {},
   "outputs": [
    {
     "data": {
      "text/plain": [
       "(array([ 1.52869933+0.j        , -0.1506424 +0.46584615j,\n",
       "        -0.1506424 -0.46584615j, -0.22741452+0.j        ]),\n",
       " array([[ 0.19282539+0.j        , -0.12001557-0.3711358j ,\n",
       "         -0.12001557+0.3711358j , -0.44872832+0.j        ],\n",
       "        [ 0.25589384+0.j        , -0.44293802-0.13789657j,\n",
       "         -0.44293802+0.13789657j,  0.53785846+0.j        ],\n",
       "        [ 0.33959043+0.j        , -0.43775111+0.33583846j,\n",
       "         -0.43775111-0.33583846j, -0.64469237+0.j        ],\n",
       "        [ 0.88431615+0.j        ,  0.57291485+0.j        ,\n",
       "          0.57291485-0.j        ,  0.306142  +0.j        ]]))"
      ]
     },
     "execution_count": 62,
     "metadata": {},
     "output_type": "execute_result"
    }
   ],
   "source": [
    "np.linalg.eig(transition_matrix_T)"
   ]
  },
  {
   "cell_type": "code",
   "execution_count": 71,
   "metadata": {},
   "outputs": [],
   "source": [
    "l = np.linalg.eig(transition_matrix_T)[1][:,0].tolist()"
   ]
  },
  {
   "cell_type": "code",
   "execution_count": 74,
   "metadata": {},
   "outputs": [
    {
     "data": {
      "text/plain": [
       "[(0.1928253929445729+0j),\n",
       " (0.25589384245112284+0j),\n",
       " (0.3395904325900821+0j),\n",
       " (0.8843161467058327+0j)]"
      ]
     },
     "execution_count": 74,
     "metadata": {},
     "output_type": "execute_result"
    }
   ],
   "source": [
    "l"
   ]
  },
  {
   "cell_type": "markdown",
   "metadata": {},
   "source": []
  }
 ],
 "metadata": {
  "kernelspec": {
   "display_name": "Python 3",
   "language": "python",
   "name": "python3"
  },
  "language_info": {
   "codemirror_mode": {
    "name": "ipython",
    "version": 3
   },
   "file_extension": ".py",
   "mimetype": "text/x-python",
   "name": "python",
   "nbconvert_exporter": "python",
   "pygments_lexer": "ipython3",
   "version": "3.7.6"
  }
 },
 "nbformat": 4,
 "nbformat_minor": 4
}
